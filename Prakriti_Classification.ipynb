{
  "cells": [
    {
      "cell_type": "markdown",
      "metadata": {
        "id": "tJdkq2b8qoN8"
      },
      "source": [
        "## Reading from data set"
      ]
    },
    {
      "cell_type": "code",
      "execution_count": 3,
      "metadata": {},
      "outputs": [
        {
          "name": "stdout",
          "output_type": "stream",
          "text": [
            "   vata  pitta  kapha Prakriti\n",
            "0    30      0      0     vata\n",
            "1    29      1      0     vata\n",
            "2    29      0      1     vata\n",
            "3    28      2      0     vata\n",
            "4    28      1      1     vata\n"
          ]
        }
      ],
      "source": [
        "import pandas as pd\n",
        "import numpy as np\n",
        "from collections import *\n",
        "# read data from csv file\n",
        "df = pd.read_csv('prakriti-data-set.csv')\n",
        "print(df.head())"
      ]
    },
    {
      "cell_type": "markdown",
      "metadata": {
        "id": "D_8715R_qvsX"
      },
      "source": [
        "## Training The Model using Random Forest"
      ]
    },
    {
      "cell_type": "code",
      "execution_count": 4,
      "metadata": {
        "colab": {
          "base_uri": "https://localhost:8080/"
        },
        "id": "T_f0R6TXnGJD",
        "outputId": "6a5645df-ecc2-4bec-ed4b-7da0e451ae47"
      },
      "outputs": [
        {
          "name": "stdout",
          "output_type": "stream",
          "text": [
            "['vata-pitta-kapha']\n"
          ]
        }
      ],
      "source": [
        "from sklearn.ensemble import RandomForestClassifier\n",
        "from sklearn.model_selection import train_test_split\n",
        "\n",
        "scores = np.array(df[['vata', 'pitta', 'kapha']])\n",
        "labels = np.array(df['Prakriti'])\n",
        "\n",
        "\n",
        "X_train, X_test, y_train, y_test = train_test_split(scores, labels, test_size=0.2)\n",
        "\n",
        "clf = RandomForestClassifier(n_estimators=500)\n",
        "\n",
        "\n",
        "clf.fit(X_train, y_train)\n",
        "\n",
        "\n",
        "print(clf.predict(np.array([[10,10,10]])))\n"
      ]
    },
    {
      "cell_type": "code",
      "execution_count": 5,
      "metadata": {
        "colab": {
          "base_uri": "https://localhost:8080/"
        },
        "id": "zBMLWAj1nJiu",
        "outputId": "fdf15423-6add-467d-bbfa-b4e775977b4a"
      },
      "outputs": [
        {
          "name": "stdout",
          "output_type": "stream",
          "text": [
            "496\n",
            "Counter({'vata-kapha': 104, 'pitta-kapha': 101, 'vata-pitta': 100, 'vata-pitta-kapha': 79, 'pitta': 38, 'kapha': 37, 'vata': 37})\n",
            "7\n"
          ]
        }
      ],
      "source": [
        "n = 30\n",
        "cnt = 0\n",
        "inputs, outputs = [], []\n",
        "for v in range(0,n+1):\n",
        "  for p in range(0, n+1-v):\n",
        "    cnt += 1\n",
        "    inputs.append([v, p, n-v-p])\n",
        "    outputs.append(clf.predict(np.array([[v, p, n-v-p]])))\n",
        "print(cnt)\n",
        "freq = Counter([\"\".join(list(x)) for x in outputs[:]])\n",
        "print(freq)\n",
        "print(len(freq))"
      ]
    },
    {
      "cell_type": "code",
      "execution_count": 6,
      "metadata": {},
      "outputs": [
        {
          "data": {
            "text/plain": [
              "['prakriti-classifier.joblib']"
            ]
          },
          "execution_count": 6,
          "metadata": {},
          "output_type": "execute_result"
        }
      ],
      "source": [
        "import joblib\n",
        "joblib.dump(clf, 'prakriti-classifier.joblib')"
      ]
    },
    {
      "cell_type": "markdown",
      "metadata": {
        "id": "oDLG8bnSq24V"
      },
      "source": [
        "## Pickling the trained model"
      ]
    },
    {
      "cell_type": "code",
      "execution_count": 17,
      "metadata": {
        "id": "KH2ho0b-q2aM"
      },
      "outputs": [],
      "source": [
        "import pickle\n",
        "pickle.dump(clf, open('prakriti-classifier.pkl', 'wb'))"
      ]
    },
    {
      "cell_type": "code",
      "execution_count": 18,
      "metadata": {
        "id": "j5WHXwFxrRLo"
      },
      "outputs": [],
      "source": [
        "pickled_model = pickle.load(open('prakriti-classifier.pkl', 'rb'))"
      ]
    },
    {
      "cell_type": "code",
      "execution_count": 16,
      "metadata": {
        "colab": {
          "base_uri": "https://localhost:8080/"
        },
        "id": "GxuuaVbsrdYC",
        "outputId": "9457dbc2-6f52-45c1-ac9a-8bdf9c41aa66"
      },
      "outputs": [
        {
          "data": {
            "text/plain": [
              "array(['vata-pitta-kapha'], dtype='<U16')"
            ]
          },
          "execution_count": 16,
          "metadata": {},
          "output_type": "execute_result"
        }
      ],
      "source": [
        "pickled_model.predict(np.array([[10,10,10]]))"
      ]
    }
  ],
  "metadata": {
    "colab": {
      "provenance": []
    },
    "kernelspec": {
      "display_name": "Python 3",
      "name": "python3"
    },
    "language_info": {
      "codemirror_mode": {
        "name": "ipython",
        "version": 3
      },
      "file_extension": ".py",
      "mimetype": "text/x-python",
      "name": "python",
      "nbconvert_exporter": "python",
      "pygments_lexer": "ipython3",
      "version": "3.11.4"
    }
  },
  "nbformat": 4,
  "nbformat_minor": 0
}
